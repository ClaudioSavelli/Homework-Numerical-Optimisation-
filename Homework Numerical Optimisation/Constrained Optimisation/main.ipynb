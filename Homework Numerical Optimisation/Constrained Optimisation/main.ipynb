{
 "cells": [
  {
   "cell_type": "code",
   "execution_count": 1,
   "metadata": {},
   "outputs": [],
   "source": [
    "%matplotlib ipympl\n",
    "import numpy as np\n",
    "import matplotlib.pyplot as plt\n",
    "from mpl_toolkits import mplot3d\n",
    "from mpl_toolkits.axes_grid1 import make_axes_locatable\n",
    "import seaborn as sns\n",
    "import function as f\n",
    "from function import *\n",
    "import proj_gradient_method as pcg\n",
    "from proj_gradient_method import *\n",
    "from sklearn.model_selection import ParameterGrid\n",
    "from importlib import reload"
   ]
  },
  {
   "cell_type": "code",
   "execution_count": null,
   "metadata": {},
   "outputs": [],
   "source": [
    "reload(f)\n",
    "reload(pcg)"
   ]
  },
  {
   "cell_type": "code",
   "execution_count": 3,
   "metadata": {},
   "outputs": [],
   "source": [
    "gamma = 1\n",
    "kmax = 1000\n",
    "tolgrad = 1e-8\n",
    "tolx = 1e-8\n",
    "c = 1e-4\n",
    "rho = 0.7\n",
    "btmax = 50\n",
    "params = {'d': [3, 4, 5],\n",
    "          'fin_diff': [True],\n",
    "          'k': [2, 4, 6, 8, 10, 12],\n",
    "          'type': ['fw', 'bw', 'c']}"
   ]
  },
  {
   "cell_type": "code",
   "execution_count": null,
   "metadata": {},
   "outputs": [],
   "source": [
    "rng = np.random.RandomState(42)\n",
    "for param in ParameterGrid(params):\n",
    "    d = param['d']\n",
    "    n = 10**d\n",
    "    x = rng.random((n,))\n",
    "    X1 = {\"[0, n]\": [[1, 5.12], [0, n]], 'name': 'X1'}\n",
    "    X2 = {\"[0]\": [[-5.12, 5.12], [0, 1]], \"[1, n-1]\": [[1, 5.12], [1, n]], 'name': 'X2'}\n",
    "    X3 = {\"[0, n/2-1]\": [[-5.12, 5.12], [0, int(n/2)]], \"[n/2, n-1]\": [[1, 5.12], [int(n/2), n]], 'name': 'X3'}\n",
    "    for X in [X1, X2, X3]:\n",
    "        x_seq, f_seq, gradf_norm_seq, deltax_norm_seq, k, bt_seq = projected_gradient_bcktrck(x, X, gamma, kmax, \n",
    "                                                                                              tolgrad, tolx, c, \n",
    "                                                                                              rho, btmax, param['fin_diff'], \n",
    "                                                                                              param['type'], param['k'])\n",
    "        print(f\"d = {d}, type = {param['type']}, k = {param['k']}, X = {X['name']}\")\n",
    "        print(f\"k = {k}, fk = {f_seq[-1]}, gradfk_norm = {gradf_norm_seq[-1]}, deltaxk_norm = {deltax_norm_seq[-1]}\\n\")"
   ]
  },
  {
   "cell_type": "code",
   "execution_count": 27,
   "metadata": {},
   "outputs": [],
   "source": [
    "\n",
    "X = [X1, X2, X3]"
   ]
  },
  {
   "cell_type": "code",
   "execution_count": 18,
   "metadata": {},
   "outputs": [],
   "source": [
    "rng = np.random.RandomState(1)\n",
    "x = rng.random(n)*10"
   ]
  },
  {
   "cell_type": "code",
   "execution_count": 31,
   "metadata": {},
   "outputs": [],
   "source": [
    "x_seq, f_seq, gradf_norm_seq, deltax_norm_seq, k, bt_seq = projected_gradient_bcktrck(x, X1, 1.0, 10000, 1e-4, 1e-4, 1e-4, 0.7, 50, False, 'fw', 8)"
   ]
  },
  {
   "cell_type": "code",
   "execution_count": null,
   "metadata": {},
   "outputs": [],
   "source": [
    "sns.set()\n",
    "fig, ax = plt.subplots(figsize=(10, 10))\n",
    "ax.plot(f_seq, '-r')\n",
    "ax.plot(gradf_norm_seq, '-g')\n",
    "ax.plot(deltax_norm_seq, '-b')\n",
    "ax.set_xscale('log', base=10)\n",
    "ax.set_yscale('log', base=10)"
   ]
  }
 ],
 "metadata": {
  "kernelspec": {
   "display_name": "Python 3",
   "language": "python",
   "name": "python3"
  },
  "language_info": {
   "codemirror_mode": {
    "name": "ipython",
    "version": 3
   },
   "file_extension": ".py",
   "mimetype": "text/x-python",
   "name": "python",
   "nbconvert_exporter": "python",
   "pygments_lexer": "ipython3",
   "version": "3.10.9"
  },
  "orig_nbformat": 4,
  "vscode": {
   "interpreter": {
    "hash": "26de051ba29f2982a8de78e945f0abaf191376122a1563185a90213a26c5da77"
   }
  }
 },
 "nbformat": 4,
 "nbformat_minor": 2
}
