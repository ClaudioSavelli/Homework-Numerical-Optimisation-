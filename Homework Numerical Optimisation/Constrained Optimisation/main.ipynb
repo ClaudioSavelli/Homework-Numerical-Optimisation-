{
 "cells": [
  {
   "cell_type": "code",
   "execution_count": 1,
   "metadata": {},
   "outputs": [],
   "source": [
    "%matplotlib ipympl\n",
    "import numpy as np\n",
    "import matplotlib.pyplot as plt\n",
    "from mpl_toolkits import mplot3d\n",
    "from mpl_toolkits.axes_grid1 import make_axes_locatable\n",
    "import seaborn as sns\n",
    "import function as f\n",
    "from function import *\n",
    "import proj_gradient_method as pcg\n",
    "from proj_gradient_method import *\n",
    "from sklearn.model_selection import ParameterGrid\n",
    "from importlib import reload"
   ]
  },
  {
   "cell_type": "code",
   "execution_count": null,
   "metadata": {},
   "outputs": [],
   "source": [
    "reload(f)\n",
    "reload(pcg)"
   ]
  },
  {
   "cell_type": "code",
   "execution_count": 9,
   "metadata": {},
   "outputs": [],
   "source": [
    "d = 1\n",
    "n = 10**d"
   ]
  },
  {
   "cell_type": "code",
   "execution_count": 27,
   "metadata": {},
   "outputs": [],
   "source": [
    "X1 = {\"[0, n]\": [[1, 5.12], [0, n]]}\n",
    "X2 = {\"[0]\": [[-5.12, 5.12], [0, 1]], \"[1, n-1]\": [[1, 5.12], [1, n]]}\n",
    "X3 = {\"[0, n/2-1]\": [[-5.12, 5.12], [0, int(n/2)]], \"[n/2, n-1]\": [[1, 5.12], [int(n/2), n]]}\n",
    "X = [X1, X2, X3]"
   ]
  },
  {
   "cell_type": "code",
   "execution_count": 18,
   "metadata": {},
   "outputs": [],
   "source": [
    "rng = np.random.RandomState(1)\n",
    "x = rng.random(n)*10"
   ]
  },
  {
   "cell_type": "code",
   "execution_count": 31,
   "metadata": {},
   "outputs": [],
   "source": [
    "x_seq, f_seq, gradf_norm_seq, deltax_norm_seq, k, bt_seq = projected_gradient_bcktrck(x, X1, 1.0, 10000, 1e-4, 1e-4, 1e-4, 0.7, 50, False, 'fw', 8)"
   ]
  },
  {
   "cell_type": "code",
   "execution_count": null,
   "metadata": {},
   "outputs": [],
   "source": [
    "sns.set()\n",
    "fig, ax = plt.subplots(figsize=(10, 10))\n",
    "ax.plot(f_seq, '-r')\n",
    "ax.plot(gradf_norm_seq, '-g')\n",
    "ax.plot(deltax_norm_seq, '-b')\n",
    "ax.set_xscale('log', base=10)\n",
    "ax.set_yscale('log', base=10)"
   ]
  }
 ],
 "metadata": {
  "kernelspec": {
   "display_name": "Python 3",
   "language": "python",
   "name": "python3"
  },
  "language_info": {
   "codemirror_mode": {
    "name": "ipython",
    "version": 3
   },
   "file_extension": ".py",
   "mimetype": "text/x-python",
   "name": "python",
   "nbconvert_exporter": "python",
   "pygments_lexer": "ipython3",
   "version": "3.10.9"
  },
  "orig_nbformat": 4,
  "vscode": {
   "interpreter": {
    "hash": "26de051ba29f2982a8de78e945f0abaf191376122a1563185a90213a26c5da77"
   }
  }
 },
 "nbformat": 4,
 "nbformat_minor": 2
}
