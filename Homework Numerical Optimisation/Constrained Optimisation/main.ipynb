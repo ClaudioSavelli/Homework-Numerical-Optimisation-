{
 "cells": [
  {
   "cell_type": "code",
   "execution_count": null,
   "metadata": {},
   "outputs": [],
   "source": [
    "%matplotlib ipympl\n",
    "import numpy as np\n",
    "import matplotlib.pyplot as plt\n",
    "from mpl_toolkits import mplot3d\n",
    "from mpl_toolkits.axes_grid1 import make_axes_locatable\n",
    "import seaborn as sns\n",
    "import function as f\n",
    "from function import *\n",
    "import proj_gradient_method as pcg\n",
    "from proj_gradient_method import *\n",
    "from numba import typeof\n",
    "from numba.core import types\n",
    "from numba.typed import Dict\n",
    "from sklearn.model_selection import ParameterGrid\n",
    "from importlib import reload\n",
    "import time\n",
    "from  varname.helpers import Wrapper"
   ]
  },
  {
   "cell_type": "code",
   "execution_count": null,
   "metadata": {},
   "outputs": [],
   "source": [
    "reload(f)\n",
    "reload(pcg)"
   ]
  },
  {
   "cell_type": "code",
   "execution_count": null,
   "metadata": {},
   "outputs": [],
   "source": [
    "gamma = 1.0\n",
    "kmax = 2500\n",
    "tolgrad = 1e-8\n",
    "tolx = 1e-8\n",
    "c = 1e-4\n",
    "rho = 0.7\n",
    "btmax = 50\n",
    "params = {'d': [3, 4, 5],\n",
    "          'k': [2, 4, 6, 8, 10, 12]}"
   ]
  },
  {
   "attachments": {},
   "cell_type": "markdown",
   "metadata": {},
   "source": [
    "Exact derivative"
   ]
  },
  {
   "cell_type": "code",
   "execution_count": null,
   "metadata": {},
   "outputs": [],
   "source": [
    "rng = np.random.RandomState(42)\n",
    "i = 1\n",
    "for d in [3, 4, 5]: \n",
    "    n = 10**d\n",
    "    x = rng.randint(-5, 5, n)\n",
    "    X1 = Dict.empty(\n",
    "        key_type=types.unicode_type,\n",
    "        value_type=types.float64[:]\n",
    "    )\n",
    "    X1['[0, n]'] = np.asarray([1, 5.12, 0, n], dtype='f8')\n",
    "    X1 = Wrapper(X1)\n",
    "\n",
    "    X2 = Dict.empty(\n",
    "        key_type=types.unicode_type,\n",
    "        value_type=types.float64[:]\n",
    "    )\n",
    "    X2['[0]'] = np.asarray([-5.12, 5.12, 0, 1], dtype='f8')\n",
    "    X2['[n/2, n-1]'] = np.asarray([1, 5.12, 1, n], dtype='f8')\n",
    "    X2 = Wrapper(X2)\n",
    "\n",
    "    X3 = Dict.empty(\n",
    "        key_type=types.unicode_type,\n",
    "        value_type=types.float64[:]\n",
    "    )\n",
    "    X3['[0, n/2-1]'] = np.asarray([-5.12, 5.12, 0, n/2], dtype='f8')\n",
    "    X3['[n/2, n-1]'] = np.asarray([1, 5.12, n/2, n], dtype='f8')\n",
    "    X3 = Wrapper(X3)\n",
    "        \n",
    "    for X in [X1, X2, X3]:\n",
    "        x_seq, f_seq, gradf_norm_seq, deltax_norm_seq, k, bt_seq = projected_gradient_bcktrck(x, X.value, gamma, kmax, \n",
    "                                                                                                tolgrad, tolx, c, \n",
    "                                                                                                rho, btmax, False, \n",
    "                                                                                                'Empty', 0)\n",
    "        print(f\"{i}) d = {d}, fin_diff = {False}, X = {X.name}\")\n",
    "        print(f\"k = {k}, fk = {f_seq[-1]}, gradfk_norm = {gradf_norm_seq[-1]}, deltaxk_norm = {deltax_norm_seq[-1]}\\n\")\n",
    "        i += 1"
   ]
  },
  {
   "cell_type": "code",
   "execution_count": null,
   "metadata": {},
   "outputs": [],
   "source": [
    "sns.set()\n",
    "fig, ax = plt.subplots(figsize=(10, 10))\n",
    "ax.plot(f_seq, '-r')\n",
    "ax.plot(gradf_norm_seq, '-g')\n",
    "ax.plot(deltax_norm_seq, '-b')\n",
    "ax.set_xscale('log', base=10)\n",
    "ax.set_yscale('log', base=10)"
   ]
  },
  {
   "attachments": {},
   "cell_type": "markdown",
   "metadata": {},
   "source": [
    "Finite derivatives"
   ]
  },
  {
   "cell_type": "code",
   "execution_count": null,
   "metadata": {},
   "outputs": [],
   "source": [
    "rng = np.random.RandomState(42)\n",
    "i = 1\n",
    "for param in ParameterGrid(params):\n",
    "    d = param['d']\n",
    "    n = 10**d\n",
    "    x = rng.randint(-5, 5, n)\n",
    "\n",
    "    X1 = Dict.empty(\n",
    "        key_type=types.unicode_type,\n",
    "        value_type=types.float64[:]\n",
    "    )\n",
    "    X1['[0, n]'] = np.asarray([1, 5.12, 0, n], dtype='f8')\n",
    "    X1 = Wrapper(X1)\n",
    "\n",
    "    X2 = Dict.empty(\n",
    "        key_type=types.unicode_type,\n",
    "        value_type=types.float64[:]\n",
    "    )\n",
    "    X2['[0]'] = np.asarray([-5.12, 5.12, 0, 1], dtype='f8')\n",
    "    X2['[n/2, n-1]'] = np.asarray([1, 5.12, 1, n], dtype='f8')\n",
    "    X2 = Wrapper(X2)\n",
    "\n",
    "    X3 = Dict.empty(\n",
    "        key_type=types.unicode_type,\n",
    "        value_type=types.float64[:]\n",
    "    )\n",
    "    X3['[0, n/2-1]'] = np.asarray([-5.12, 5.12, 0, n/2], dtype='f8')\n",
    "    X3['[n/2, n-1]'] = np.asarray([1, 5.12, n/2, n], dtype='f8')\n",
    "    X3 = Wrapper(X3)\n",
    "    \n",
    "    k = param['k']\n",
    "    h = 10**(-k) * np.linalg.norm(x)\n",
    "    \n",
    "    for X in [X1, X2, X3]:\n",
    "        x_seq2, f_seq2, gradf_norm_seq2, deltax_norm_seq2, k2, bt_seq2 = projected_gradient_bcktrck(x, X.value, gamma, kmax, \n",
    "                                                                                              tolgrad, tolx, c, \n",
    "                                                                                              rho, btmax, True, \n",
    "                                                                                              'fw', h)\n",
    "        print(f\"{i}) d = {d}, fin_diff = {True}, type = fw, k = {param['k']}, X = {X.name}\")\n",
    "        print(f\"k = {k2}, fk = {f_seq2[-1]}, gradfk_norm = {gradf_norm_seq2[-1]}, deltaxk_norm = {deltax_norm_seq2[-1]}\\n\")\n",
    "        i += 1"
   ]
  },
  {
   "cell_type": "code",
   "execution_count": null,
   "metadata": {},
   "outputs": [],
   "source": [
    "sns.set()\n",
    "fig, ax = plt.subplots(figsize=(10, 10))\n",
    "ax.plot(f_seq2, '-r')\n",
    "ax.plot(gradf_norm_seq2, '-g')\n",
    "ax.plot(deltax_norm_seq2, '-b')\n",
    "ax.set_xscale('log', base=10)\n",
    "ax.set_yscale('log', base=10)"
   ]
  }
 ],
 "metadata": {
  "kernelspec": {
   "display_name": "Python 3",
   "language": "python",
   "name": "python3"
  },
  "language_info": {
   "codemirror_mode": {
    "name": "ipython",
    "version": 3
   },
   "file_extension": ".py",
   "mimetype": "text/x-python",
   "name": "python",
   "nbconvert_exporter": "python",
   "pygments_lexer": "ipython3",
   "version": "3.10.6 (main, Nov 14 2022, 16:10:14) [GCC 11.3.0]"
  },
  "orig_nbformat": 4,
  "vscode": {
   "interpreter": {
    "hash": "916dbcbb3f70747c44a77c7bcd40155683ae19c65e1c03b4aa3499c5328201f1"
   }
  }
 },
 "nbformat": 4,
 "nbformat_minor": 2
}
