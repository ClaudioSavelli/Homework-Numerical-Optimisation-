{
 "cells": [
  {
   "cell_type": "code",
   "execution_count": 11,
   "metadata": {},
   "outputs": [],
   "source": [
    "import numpy as np\n",
    "import steepest_descent_bcktrck as sdb\n",
    "from steepest_descent_bcktrck import *\n",
    "import cgm_pol_rib as cgmpb\n",
    "from cgm_pol_rib import *\n",
    "import functions as funcs\n",
    "from sklearn.model_selection import ParameterGrid\n",
    "from importlib import reload"
   ]
  },
  {
   "cell_type": "code",
   "execution_count": 12,
   "metadata": {},
   "outputs": [
    {
     "data": {
      "text/plain": [
       "<module 'cgm_pol_rib' from 'c:\\\\Users\\\\bruno\\\\Documents\\\\GitHub\\\\Homework-Numerical-Optimisation-\\\\Homework Numerical Optimisation\\\\Unconstrained Optimisation\\\\cgm_pol_rib.py'>"
      ]
     },
     "execution_count": 12,
     "metadata": {},
     "output_type": "execute_result"
    }
   ],
   "source": [
    "reload(funcs)\n",
    "reload(sdb)\n",
    "reload(cgmpb)"
   ]
  },
  {
   "attachments": {},
   "cell_type": "markdown",
   "metadata": {},
   "source": [
    "Evaluate rate of convergence"
   ]
  },
  {
   "cell_type": "code",
   "execution_count": 51,
   "metadata": {},
   "outputs": [],
   "source": [
    "def rate_of_convergence(xseq: np.ndarray) ->np.ndarray:\n",
    "    n = xseq.shape[1]\n",
    "    p = np.empty(10)\n",
    "    for k in range(1, 11):\n",
    "        if (xseq[:, k+2]-xseq[:, k+1]).any() != 0 and (xseq[:, k+1]-xseq[:, k]).any() != 0 and (xseq[:, k]-xseq[:, k-1]).any() != 0:\n",
    "            p[k-1] = log(np.linalg.norm(xseq[:, k+2]-xseq[:, k+1], 2) / (np.linalg.norm(xseq[:, k+1]-xseq[:, k], 2))) / \\\n",
    "                     log(np.linalg.norm(xseq[:, k+1]-xseq[:, k], 2) / (np.linalg.norm(xseq[:, k]-xseq[:, k-1], 2)))\n",
    "            # print(f\"i = {k-1}: p = {p}\")\n",
    "    return p"
   ]
  },
  {
   "cell_type": "code",
   "execution_count": 54,
   "metadata": {},
   "outputs": [],
   "source": [
    "x0 = np.array([1.2, 1.2]).reshape(-1,1)\n",
    "x1 = np.array([-1.2, 1]).reshape(-1,1)\n",
    "alpha0 = 1\n",
    "tolgrad = 1e-12\n",
    "rho = 0.5\n",
    "c = 1e-4\n",
    "kmax = 25000\n",
    "btmax = 50\n",
    "fin_diff = True\n",
    "fd_type = 'centered'"
   ]
  },
  {
   "cell_type": "code",
   "execution_count": 55,
   "metadata": {},
   "outputs": [
    {
     "name": "stdout",
     "output_type": "stream",
     "text": [
      "Analysis of the point x0 =  [[1.2 1.2]]\n",
      "Number of iterations performed:  30000\n",
      "Evaluation of Rosembrook function in the reached point:  [6.0436118e-25]\n",
      "Actual coordinates of the reached point xk:  [[1. 1.]]\n",
      "\n",
      "\n"
     ]
    }
   ],
   "source": [
    "#Let's test the Steepest descent method with Backtrack using the Armijo condition to see what is the result obtained \n",
    "xk, fk, gradfk_norm, k, xseq, btseq = steepest_descent_bcktrck(x0, 'Rosenbrock', alpha0, kmax, tolgrad, c, rho, btmax, fin_diff, fd_type)\n",
    "print(\"Analysis of the point x0 = \", x0.reshape(1,-1))\n",
    "print(\"Number of iterations performed: \", k)\n",
    "print(\"Evaluation of Rosembrook function in the reached point: \", fk)\n",
    "print(\"Actual coordinates of the reached point xk: \", xk.reshape(1,-1))\n",
    "print(\"\\n\")"
   ]
  },
  {
   "cell_type": "code",
   "execution_count": 50,
   "metadata": {},
   "outputs": [
    {
     "name": "stdout",
     "output_type": "stream",
     "text": [
      "p mean = 5.43\n"
     ]
    }
   ],
   "source": [
    "if (gradfk_norm <= tolgrad):\n",
    "    p = rate_of_convergence(xseq)\n",
    "    print(f\"p mean = {np.abs(p).mean():.2f}\")"
   ]
  }
 ],
 "metadata": {
  "kernelspec": {
   "display_name": "Python 3",
   "language": "python",
   "name": "python3"
  },
  "language_info": {
   "codemirror_mode": {
    "name": "ipython",
    "version": 3
   },
   "file_extension": ".py",
   "mimetype": "text/x-python",
   "name": "python",
   "nbconvert_exporter": "python",
   "pygments_lexer": "ipython3",
   "version": "3.10.9"
  },
  "orig_nbformat": 4,
  "vscode": {
   "interpreter": {
    "hash": "26de051ba29f2982a8de78e945f0abaf191376122a1563185a90213a26c5da77"
   }
  }
 },
 "nbformat": 4,
 "nbformat_minor": 2
}
