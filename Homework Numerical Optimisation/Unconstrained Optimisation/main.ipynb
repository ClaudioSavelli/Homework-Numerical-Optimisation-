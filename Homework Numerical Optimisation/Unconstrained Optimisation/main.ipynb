{
 "cells": [
  {
   "cell_type": "code",
   "execution_count": 1,
   "metadata": {},
   "outputs": [],
   "source": [
    "import numpy as np\n",
    "import steepest_descent_bcktrck as sdb\n",
    "from steepest_descent_bcktrck import *\n",
    "import cgm_pol_rib as cgmpb\n",
    "from cgm_pol_rib import *\n",
    "import functions as funcs\n",
    "from sklearn.model_selection import ParameterGrid\n",
    "from importlib import reload"
   ]
  },
  {
   "cell_type": "code",
   "execution_count": 2,
   "metadata": {},
   "outputs": [
    {
     "data": {
      "text/plain": [
       "<module 'cgm_pol_rib' from '/home/claudio/Documents/GitHub/Homework-Numerical-Optimisation-/Homework Numerical Optimisation/Unconstrained Optimisation/cgm_pol_rib.py'>"
      ]
     },
     "execution_count": 2,
     "metadata": {},
     "output_type": "execute_result"
    }
   ],
   "source": [
    "reload(funcs)\n",
    "reload(sdb)\n",
    "reload(cgmpb)"
   ]
  },
  {
   "attachments": {},
   "cell_type": "markdown",
   "metadata": {},
   "source": [
    "Evaluate rate of convergence"
   ]
  },
  {
   "cell_type": "code",
   "execution_count": 69,
   "metadata": {},
   "outputs": [],
   "source": [
    "def rate_of_convergence(xseq: np.ndarray) ->np.ndarray:\n",
    "    N = 100\n",
    "    n = xseq.shape[1]\n",
    "    p = np.empty(N)\n",
    "    for k in range(1, N+1):\n",
    "        if (xseq[:, k+2]-xseq[:, k+1]).any() != 0 and (xseq[:, k+1]-xseq[:, k]).any() != 0 and (xseq[:, k]-xseq[:, k-1]).any() != 0:\n",
    "            p[k-1] = log(np.linalg.norm(xseq[:, k+2]-xseq[:, k+1], 2) / (np.linalg.norm(xseq[:, k+1]-xseq[:, k], 2))) / \\\n",
    "                     log(np.linalg.norm(xseq[:, k+1]-xseq[:, k], 2) / (np.linalg.norm(xseq[:, k]-xseq[:, k-1], 2)))\n",
    "            # print(f\"i = {k-1}: p = {p}\")\n",
    "    return p"
   ]
  },
  {
   "cell_type": "code",
   "execution_count": 6,
   "metadata": {},
   "outputs": [],
   "source": [
    "x0 = np.array([1.2, 1.2]).reshape(-1,1)\n",
    "x1 = np.array([-1.2, 1]).reshape(-1,1)\n",
    "alpha0 = 1\n",
    "tolgrad = 1e-12\n",
    "rho = 0.5\n",
    "c = 1e-4\n",
    "kmax = 50000\n",
    "btmax = 50\n",
    "fin_diff = True\n",
    "fd_type = 'centered'\n",
    "\n",
    "params = {\"c\": [1e-1, 1e-2, 1e-3, 1e-4, 1e-5, 1e-6],\n",
    "              \"rho\": [0.2, 0.3, 0.4, 0.5, 0.6, 0.7]}"
   ]
  },
  {
   "cell_type": "code",
   "execution_count": 13,
   "metadata": {},
   "outputs": [],
   "source": [
    "#Let's test the Steepest descent method with Backtrack tuning the parameters c and rho using the Armijo condition to see what is the result obtained (POINT X0)\n",
    "best_fK = 1\n",
    "best_param = 0\n",
    "best_k = 0\n",
    "best_xk = np.empty((2,1))\n",
    "\n",
    "for param in ParameterGrid(params): \n",
    "    xk, fk, gradfk_norm, k, xseq, btseq = steepest_descent_bcktrck(x0, 'Rosenbrock', alpha0, kmax, tolgrad, param[\"c\"], param[\"rho\"], btmax, fin_diff, fd_type)\n",
    "    if (fk < best_fK): \n",
    "        best_xk = xk\n",
    "        best_k = k\n",
    "        best_fK = fk \n",
    "        best_param = param"
   ]
  },
  {
   "attachments": {},
   "cell_type": "markdown",
   "metadata": {},
   "source": [
    "x0:  [1.2] [1.2]\n",
    "\n",
    "xk:  [1.] [1.]\n",
    "\n",
    "k:  31839\n",
    "\n",
    "fk:  [4.17569518e-25]\n",
    "\n",
    "best set of parameters:  {'c': 0.01, 'rho': 0.7}"
   ]
  },
  {
   "cell_type": "code",
   "execution_count": 62,
   "metadata": {},
   "outputs": [
    {
     "name": "stdout",
     "output_type": "stream",
     "text": [
      "x0:  [1.2] [1.2]\n",
      "xk:  [1.] [1.]\n",
      "k:  31839\n",
      "fk:  [4.17569518e-25]\n",
      "best set of parameters:  {'c': 0.01, 'rho': 0.7}\n"
     ]
    }
   ],
   "source": [
    "print(\"x0: \", x0[0], x0[1])\n",
    "print(\"xk: \", best_xk[0], best_xk[1])\n",
    "print(\"k: \", best_k)\n",
    "print(\"fk: \", best_fK)\n",
    "print(\"best set of parameters: \", best_param)"
   ]
  },
  {
   "cell_type": "code",
   "execution_count": 71,
   "metadata": {},
   "outputs": [
    {
     "name": "stdout",
     "output_type": "stream",
     "text": [
      "p mean = 1.30\n"
     ]
    }
   ],
   "source": [
    "if (gradfk_norm <= tolgrad):\n",
    "    p = rate_of_convergence(xseq)\n",
    "    print(f\"p mean = {np.abs(p).mean():.2f}\")"
   ]
  },
  {
   "cell_type": "code",
   "execution_count": 64,
   "metadata": {},
   "outputs": [],
   "source": [
    "#Let's test the Steepest descent method with Backtrack tuning the parameters c and rho using the Armijo condition to see what is the result obtained (POINT X0)\n",
    "best_fK = 1\n",
    "best_param = 0\n",
    "best_k = 0\n",
    "best_xk = np.empty((2,1))\n",
    "\n",
    "for param in ParameterGrid(params): \n",
    "    xk, fk, gradfk_norm, k, xseq, btseq = steepest_descent_bcktrck(x1, 'Rosenbrock', alpha0, kmax, tolgrad, param[\"c\"], param[\"rho\"], btmax, fin_diff, fd_type)\n",
    "    if (fk < best_fK): \n",
    "        best_xk = xk\n",
    "        best_k = k\n",
    "        best_fK = fk \n",
    "        best_param = param"
   ]
  },
  {
   "attachments": {},
   "cell_type": "markdown",
   "metadata": {},
   "source": [
    "x0:  [-1.2] [1.]\n",
    "\n",
    "xk:  [1.] [1.]\n",
    "\n",
    "k:  35285\n",
    "\n",
    "fk:  [4.17283211e-25]\n",
    "\n",
    "best set of parameters:  {'c': 1e-05, 'rho': 0.7}"
   ]
  },
  {
   "cell_type": "code",
   "execution_count": 65,
   "metadata": {},
   "outputs": [
    {
     "name": "stdout",
     "output_type": "stream",
     "text": [
      "x0:  [-1.2] [1.]\n",
      "xk:  [1.] [1.]\n",
      "k:  35285\n",
      "fk:  [4.17283211e-25]\n",
      "best set of parameters:  {'c': 1e-05, 'rho': 0.7}\n"
     ]
    }
   ],
   "source": [
    "print(\"x0: \", x1[0], x1[1])\n",
    "print(\"xk: \", best_xk[0], best_xk[1])\n",
    "print(\"k: \", best_k)\n",
    "print(\"fk: \", best_fK)\n",
    "print(\"best set of parameters: \", best_param)"
   ]
  },
  {
   "cell_type": "code",
   "execution_count": 70,
   "metadata": {},
   "outputs": [
    {
     "name": "stdout",
     "output_type": "stream",
     "text": [
      "p mean = 1.30\n"
     ]
    }
   ],
   "source": [
    "if (gradfk_norm <= tolgrad):\n",
    "    p = rate_of_convergence(xseq)\n",
    "    print(f\"p mean = {np.abs(p).mean():.2f}\")"
   ]
  }
 ],
 "metadata": {
  "kernelspec": {
   "display_name": "Python 3",
   "language": "python",
   "name": "python3"
  },
  "language_info": {
   "codemirror_mode": {
    "name": "ipython",
    "version": 3
   },
   "file_extension": ".py",
   "mimetype": "text/x-python",
   "name": "python",
   "nbconvert_exporter": "python",
   "pygments_lexer": "ipython3",
   "version": "3.10.6"
  },
  "orig_nbformat": 4,
  "vscode": {
   "interpreter": {
    "hash": "916dbcbb3f70747c44a77c7bcd40155683ae19c65e1c03b4aa3499c5328201f1"
   }
  }
 },
 "nbformat": 4,
 "nbformat_minor": 2
}
